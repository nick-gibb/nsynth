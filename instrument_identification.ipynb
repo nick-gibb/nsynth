{
 "cells": [
  {
   "cell_type": "markdown",
   "metadata": {},
   "source": [
    "# Automated Instrument Identification\n",
    "#### Nicholas Gibb"
   ]
  },
  {
   "cell_type": "markdown",
   "metadata": {},
   "source": [
    "## Background\n",
    "\n",
    "The [NSynth dataset](https://magenta.tensorflow.org/datasets/nsynth) is a large, high-quality, and publically-available dataset of annotated musical notes. It consists of 305,979 four-second audio files with an instrument playing a note. Each musical note is annotated with the instrument family (one of the following):\n",
    "\n",
    "\n",
    "| Index | ID         |\n",
    "|-------|------------|\n",
    "| 0     | bass       |\n",
    "| 1     | brass      |\n",
    "| 2     | flute      |\n",
    "| 3     | guitar     |\n",
    "| 4     | keyboard   |\n",
    "| 5     | mallet     |\n",
    "| 6     | organ      |\n",
    "| 7     | reed       |\n",
    "| 8     | string     |\n",
    "| 9     | synth_lead |\n",
    "| 10    | vocal      |\n",
    "\n",
    "\n",
    "The task of this project is to develop an algorithm that classifies which instrument is playing the musical note.\n",
    "\n",
    "## Methodology\n",
    "\n",
    "First, the non-audio JSON data from the training and test datasets was inspected and explored (note: the validation data provided in the NSynth dataset was not needed). The training data had 289,205 examples. This is far too much data to process on a standard PC. To reduce the size, 4500 samples were randomly sampled from each instrument. Instrument 9 (\"synth_lead\") was discarded because it was not present in the test dataset. Thus, the training set was reduced to 45,000 examples (10 instruments, 4500 samples from each). \n",
    "\n",
    "Next, audio features were extracted. Features in the JSON annotation, such as pitch and velocity, were not considered. Instead, the Python library Librosa was used to extract audio features with more predictive power: \n",
    "\n",
    "1. [Harmonic or percussive](https://librosa.github.io/librosa/generated/librosa.effects.hpss.html)\n",
    "\n",
    "- [Mel-frequency cepstral coefficients (MFCCs)](https://librosa.github.io/librosa/generated/librosa.feature.mfcc.html)\n",
    "\n",
    "- [Mel-scaled spectrogram](https://librosa.github.io/librosa/generated/librosa.feature.melspectrogram.html)\n",
    "\n",
    "- [Chroma energy](https://librosa.github.io/librosa/generated/librosa.feature.chroma_cens.html)\n",
    "\n",
    "- [Spectral contrast](https://librosa.github.io/librosa/generated/librosa.feature.spectral_contrast.html)\n",
    "\n",
    "Note: I have no audio engineering background and lacked sufficient time to research the technical signifiance of these features. However, I encountered other users of the NSynth dataset who found these features to be useful. In particular, [an analysis](https://github.com/NadimKawwa/NSynth) published by Github user NadimKawwa was informative and greatly accelerated this analysis.\n",
    "\n",
    "The five audio features listed above were extracted for each of the 45,000 training examples and 4096 test examples. The instrument family (e.g. \"vocal\") was extracted from the filename of the audio clip (e.g. \"vocal_synthetic_003-092-050\"). A dataframe was then constructed using these five features and the instrument family (i.e. the target).\n",
    "\n",
    "Finally, a random forest algorithm was trained to determine the instrument type based on audio features. Random forest is one of the most popular supervised learning algorithms. It is available in the [scikit-learn Python library](https://scikit-learn.org/stable/modules/generated/sklearn.ensemble.RandomForestClassifier.html). It consists of a collection of decision trees. Each tree is different, hence the name *random* forest. Randomness prevents overfitting, which is a common problem with decision trees.\n",
    "\n",
    "\n",
    "## Results and discussion\n",
    "\n",
    "The algorithm made 4096 predictions on the test data. In all, 2325 predictions were true and 1771 were false, giving an accuracy rate of 57.8%. Given that there are ten possible instruments, a random  prediction would only be right 10% of the time. Thus, 57.8% is very good performance.\n",
    "\n",
    "An extension of this work would be to conduct a sensitivity analysis to determine which features were the most useful. It is possible that a similarly good result could be obtained with fewer features. This would avoid redundant computation and allow the size of the training dataset to be expanded. Also, perhaps the model would be substantially better if the training data set was expanded (but this would take more computing resources).\n",
    "\n",
    "---\n",
    "\n",
    "## Code\n",
    "All code that follows is in Python. There are four required libraries: numpy, pandas, librosa, and sklearn. Code is documented and explained through comments.\n",
    "### Data exploration and clean up"
   ]
  },
  {
   "cell_type": "code",
   "execution_count": 1,
   "metadata": {},
   "outputs": [],
   "source": [
    "import numpy as np\n",
    "import pandas as pd\n",
    "import librosa\n",
    "from sklearn.ensemble import RandomForestClassifier"
   ]
  },
  {
   "cell_type": "code",
   "execution_count": 2,
   "metadata": {},
   "outputs": [],
   "source": [
    "# Load training and test data to dataframe\n",
    "df_train = pd.read_json(\"data/nsynth-train/examples.json\", orient='index')\n",
    "df_test = pd.read_json(\"data/nsynth-test/examples.json\", orient='index')"
   ]
  },
  {
   "cell_type": "code",
   "execution_count": 3,
   "metadata": {},
   "outputs": [
    {
     "data": {
      "text/html": [
       "<div>\n",
       "<style scoped>\n",
       "    .dataframe tbody tr th:only-of-type {\n",
       "        vertical-align: middle;\n",
       "    }\n",
       "\n",
       "    .dataframe tbody tr th {\n",
       "        vertical-align: top;\n",
       "    }\n",
       "\n",
       "    .dataframe thead th {\n",
       "        text-align: right;\n",
       "    }\n",
       "</style>\n",
       "<table border=\"1\" class=\"dataframe\">\n",
       "  <thead>\n",
       "    <tr style=\"text-align: right;\">\n",
       "      <th></th>\n",
       "      <th>instrument</th>\n",
       "      <th>instrument_family</th>\n",
       "      <th>instrument_family_str</th>\n",
       "      <th>instrument_source</th>\n",
       "      <th>instrument_source_str</th>\n",
       "      <th>instrument_str</th>\n",
       "      <th>note</th>\n",
       "      <th>note_str</th>\n",
       "      <th>pitch</th>\n",
       "      <th>qualities</th>\n",
       "      <th>qualities_str</th>\n",
       "      <th>sample_rate</th>\n",
       "      <th>velocity</th>\n",
       "    </tr>\n",
       "  </thead>\n",
       "  <tbody>\n",
       "    <tr>\n",
       "      <th>bass_synthetic_084-039-127</th>\n",
       "      <td>726</td>\n",
       "      <td>0</td>\n",
       "      <td>bass</td>\n",
       "      <td>2</td>\n",
       "      <td>synthetic</td>\n",
       "      <td>bass_synthetic_084</td>\n",
       "      <td>283156</td>\n",
       "      <td>bass_synthetic_084-039-127</td>\n",
       "      <td>39</td>\n",
       "      <td>[1, 0, 1, 0, 0, 0, 1, 0, 0, 0]</td>\n",
       "      <td>[bright, distortion, nonlinear_env]</td>\n",
       "      <td>16000</td>\n",
       "      <td>127</td>\n",
       "    </tr>\n",
       "    <tr>\n",
       "      <th>guitar_acoustic_033-098-025</th>\n",
       "      <td>679</td>\n",
       "      <td>3</td>\n",
       "      <td>guitar</td>\n",
       "      <td>0</td>\n",
       "      <td>acoustic</td>\n",
       "      <td>guitar_acoustic_033</td>\n",
       "      <td>94583</td>\n",
       "      <td>guitar_acoustic_033-098-025</td>\n",
       "      <td>98</td>\n",
       "      <td>[0, 0, 0, 1, 0, 0, 0, 1, 0, 0]</td>\n",
       "      <td>[fast_decay, percussive]</td>\n",
       "      <td>16000</td>\n",
       "      <td>25</td>\n",
       "    </tr>\n",
       "  </tbody>\n",
       "</table>\n",
       "</div>"
      ],
      "text/plain": [
       "                             instrument  instrument_family  \\\n",
       "bass_synthetic_084-039-127          726                  0   \n",
       "guitar_acoustic_033-098-025         679                  3   \n",
       "\n",
       "                            instrument_family_str  instrument_source  \\\n",
       "bass_synthetic_084-039-127                   bass                  2   \n",
       "guitar_acoustic_033-098-025                guitar                  0   \n",
       "\n",
       "                            instrument_source_str       instrument_str  \\\n",
       "bass_synthetic_084-039-127              synthetic   bass_synthetic_084   \n",
       "guitar_acoustic_033-098-025              acoustic  guitar_acoustic_033   \n",
       "\n",
       "                               note                     note_str  pitch  \\\n",
       "bass_synthetic_084-039-127   283156   bass_synthetic_084-039-127     39   \n",
       "guitar_acoustic_033-098-025   94583  guitar_acoustic_033-098-025     98   \n",
       "\n",
       "                                                  qualities  \\\n",
       "bass_synthetic_084-039-127   [1, 0, 1, 0, 0, 0, 1, 0, 0, 0]   \n",
       "guitar_acoustic_033-098-025  [0, 0, 0, 1, 0, 0, 0, 1, 0, 0]   \n",
       "\n",
       "                                                   qualities_str  sample_rate  \\\n",
       "bass_synthetic_084-039-127   [bright, distortion, nonlinear_env]        16000   \n",
       "guitar_acoustic_033-098-025             [fast_decay, percussive]        16000   \n",
       "\n",
       "                             velocity  \n",
       "bass_synthetic_084-039-127        127  \n",
       "guitar_acoustic_033-098-025        25  "
      ]
     },
     "execution_count": 3,
     "metadata": {},
     "output_type": "execute_result"
    }
   ],
   "source": [
    "# Inspect the training data\n",
    "df_train.sample(2)"
   ]
  },
  {
   "cell_type": "code",
   "execution_count": 4,
   "metadata": {},
   "outputs": [
    {
     "data": {
      "text/html": [
       "<div>\n",
       "<style scoped>\n",
       "    .dataframe tbody tr th:only-of-type {\n",
       "        vertical-align: middle;\n",
       "    }\n",
       "\n",
       "    .dataframe tbody tr th {\n",
       "        vertical-align: top;\n",
       "    }\n",
       "\n",
       "    .dataframe thead th {\n",
       "        text-align: right;\n",
       "    }\n",
       "</style>\n",
       "<table border=\"1\" class=\"dataframe\">\n",
       "  <thead>\n",
       "    <tr style=\"text-align: right;\">\n",
       "      <th></th>\n",
       "      <th>instrument</th>\n",
       "      <th>instrument_family</th>\n",
       "      <th>instrument_family_str</th>\n",
       "      <th>instrument_source</th>\n",
       "      <th>instrument_source_str</th>\n",
       "      <th>instrument_str</th>\n",
       "      <th>note</th>\n",
       "      <th>note_str</th>\n",
       "      <th>pitch</th>\n",
       "      <th>qualities</th>\n",
       "      <th>qualities_str</th>\n",
       "      <th>sample_rate</th>\n",
       "      <th>velocity</th>\n",
       "    </tr>\n",
       "  </thead>\n",
       "  <tbody>\n",
       "    <tr>\n",
       "      <th>mallet_acoustic_047-102-050</th>\n",
       "      <td>488</td>\n",
       "      <td>5</td>\n",
       "      <td>mallet</td>\n",
       "      <td>0</td>\n",
       "      <td>acoustic</td>\n",
       "      <td>mallet_acoustic_047</td>\n",
       "      <td>96966</td>\n",
       "      <td>mallet_acoustic_047-102-050</td>\n",
       "      <td>102</td>\n",
       "      <td>[0, 0, 0, 1, 0, 0, 0, 1, 1, 0]</td>\n",
       "      <td>[fast_decay, percussive, reverb]</td>\n",
       "      <td>16000</td>\n",
       "      <td>50</td>\n",
       "    </tr>\n",
       "    <tr>\n",
       "      <th>organ_electronic_028-068-100</th>\n",
       "      <td>440</td>\n",
       "      <td>6</td>\n",
       "      <td>organ</td>\n",
       "      <td>1</td>\n",
       "      <td>electronic</td>\n",
       "      <td>organ_electronic_028</td>\n",
       "      <td>16849</td>\n",
       "      <td>organ_electronic_028-068-100</td>\n",
       "      <td>68</td>\n",
       "      <td>[0, 1, 0, 0, 0, 0, 0, 0, 0, 0]</td>\n",
       "      <td>[dark]</td>\n",
       "      <td>16000</td>\n",
       "      <td>100</td>\n",
       "    </tr>\n",
       "  </tbody>\n",
       "</table>\n",
       "</div>"
      ],
      "text/plain": [
       "                              instrument  instrument_family  \\\n",
       "mallet_acoustic_047-102-050          488                  5   \n",
       "organ_electronic_028-068-100         440                  6   \n",
       "\n",
       "                             instrument_family_str  instrument_source  \\\n",
       "mallet_acoustic_047-102-050                 mallet                  0   \n",
       "organ_electronic_028-068-100                 organ                  1   \n",
       "\n",
       "                             instrument_source_str        instrument_str  \\\n",
       "mallet_acoustic_047-102-050               acoustic   mallet_acoustic_047   \n",
       "organ_electronic_028-068-100            electronic  organ_electronic_028   \n",
       "\n",
       "                               note                      note_str  pitch  \\\n",
       "mallet_acoustic_047-102-050   96966   mallet_acoustic_047-102-050    102   \n",
       "organ_electronic_028-068-100  16849  organ_electronic_028-068-100     68   \n",
       "\n",
       "                                                   qualities  \\\n",
       "mallet_acoustic_047-102-050   [0, 0, 0, 1, 0, 0, 0, 1, 1, 0]   \n",
       "organ_electronic_028-068-100  [0, 1, 0, 0, 0, 0, 0, 0, 0, 0]   \n",
       "\n",
       "                                                 qualities_str  sample_rate  \\\n",
       "mallet_acoustic_047-102-050   [fast_decay, percussive, reverb]        16000   \n",
       "organ_electronic_028-068-100                            [dark]        16000   \n",
       "\n",
       "                              velocity  \n",
       "mallet_acoustic_047-102-050         50  \n",
       "organ_electronic_028-068-100       100  "
      ]
     },
     "execution_count": 4,
     "metadata": {},
     "output_type": "execute_result"
    }
   ],
   "source": [
    "# Inspect the test data\n",
    "df_test.sample(2)"
   ]
  },
  {
   "cell_type": "code",
   "execution_count": 5,
   "metadata": {},
   "outputs": [
    {
     "data": {
      "text/plain": [
       "0     65474\n",
       "1     12675\n",
       "2      8773\n",
       "3     32690\n",
       "4     51821\n",
       "5     34201\n",
       "6     34477\n",
       "7     13911\n",
       "8     19474\n",
       "9      5501\n",
       "10    10208\n",
       "Name: instrument_family, dtype: int64"
      ]
     },
     "execution_count": 5,
     "metadata": {},
     "output_type": "execute_result"
    }
   ],
   "source": [
    "# Confirm that the training data has examples from every instrument class.\n",
    "df_train['instrument_family'].value_counts().reindex(np.arange(0,11,1))"
   ]
  },
  {
   "cell_type": "code",
   "execution_count": 6,
   "metadata": {},
   "outputs": [
    {
     "data": {
      "text/plain": [
       "0     843.0\n",
       "1     269.0\n",
       "2     180.0\n",
       "3     652.0\n",
       "4     766.0\n",
       "5     202.0\n",
       "6     502.0\n",
       "7     235.0\n",
       "8     306.0\n",
       "9       NaN\n",
       "10    141.0\n",
       "Name: instrument_family, dtype: float64"
      ]
     },
     "execution_count": 6,
     "metadata": {},
     "output_type": "execute_result"
    }
   ],
   "source": [
    "# The test data does not have any examples from instrument 9!\n",
    "# Instrument 9 will therefore be removed from the data later\n",
    "df_test['instrument_family'].value_counts().reindex(np.arange(0,11,1))"
   ]
  },
  {
   "cell_type": "code",
   "execution_count": 7,
   "metadata": {
    "scrolled": true
   },
   "outputs": [
    {
     "data": {
      "text/plain": [
       "(289205, 13)"
      ]
     },
     "execution_count": 7,
     "metadata": {},
     "output_type": "execute_result"
    }
   ],
   "source": [
    "# There is a tonne of training data!\n",
    "df_train.shape"
   ]
  },
  {
   "cell_type": "code",
   "execution_count": 8,
   "metadata": {},
   "outputs": [
    {
     "data": {
      "text/plain": [
       "(4096, 13)"
      ]
     },
     "execution_count": 8,
     "metadata": {},
     "output_type": "execute_result"
    }
   ],
   "source": [
    "# The test data is reasonably-sized\n",
    "df_test.shape"
   ]
  },
  {
   "cell_type": "code",
   "execution_count": 9,
   "metadata": {},
   "outputs": [
    {
     "data": {
      "text/html": [
       "<div>\n",
       "<style scoped>\n",
       "    .dataframe tbody tr th:only-of-type {\n",
       "        vertical-align: middle;\n",
       "    }\n",
       "\n",
       "    .dataframe tbody tr th {\n",
       "        vertical-align: top;\n",
       "    }\n",
       "\n",
       "    .dataframe thead th {\n",
       "        text-align: right;\n",
       "    }\n",
       "</style>\n",
       "<table border=\"1\" class=\"dataframe\">\n",
       "  <thead>\n",
       "    <tr style=\"text-align: right;\">\n",
       "      <th></th>\n",
       "      <th>instrument</th>\n",
       "      <th>instrument_family</th>\n",
       "      <th>instrument_family_str</th>\n",
       "      <th>instrument_source</th>\n",
       "      <th>instrument_source_str</th>\n",
       "      <th>instrument_str</th>\n",
       "      <th>note</th>\n",
       "      <th>note_str</th>\n",
       "      <th>pitch</th>\n",
       "      <th>qualities</th>\n",
       "      <th>qualities_str</th>\n",
       "      <th>sample_rate</th>\n",
       "      <th>velocity</th>\n",
       "    </tr>\n",
       "  </thead>\n",
       "  <tbody>\n",
       "    <tr>\n",
       "      <th>bass_synthetic_078-026-127</th>\n",
       "      <td>704</td>\n",
       "      <td>0</td>\n",
       "      <td>bass</td>\n",
       "      <td>2</td>\n",
       "      <td>synthetic</td>\n",
       "      <td>bass_synthetic_078</td>\n",
       "      <td>225351</td>\n",
       "      <td>bass_synthetic_078-026-127</td>\n",
       "      <td>26</td>\n",
       "      <td>[0, 1, 0, 0, 0, 0, 0, 0, 0, 0]</td>\n",
       "      <td>[dark]</td>\n",
       "      <td>16000</td>\n",
       "      <td>127</td>\n",
       "    </tr>\n",
       "    <tr>\n",
       "      <th>bass_synthetic_106-061-127</th>\n",
       "      <td>833</td>\n",
       "      <td>0</td>\n",
       "      <td>bass</td>\n",
       "      <td>2</td>\n",
       "      <td>synthetic</td>\n",
       "      <td>bass_synthetic_106</td>\n",
       "      <td>264743</td>\n",
       "      <td>bass_synthetic_106-061-127</td>\n",
       "      <td>61</td>\n",
       "      <td>[0, 0, 1, 0, 0, 0, 0, 0, 0, 0]</td>\n",
       "      <td>[distortion]</td>\n",
       "      <td>16000</td>\n",
       "      <td>127</td>\n",
       "    </tr>\n",
       "  </tbody>\n",
       "</table>\n",
       "</div>"
      ],
      "text/plain": [
       "                            instrument  instrument_family  \\\n",
       "bass_synthetic_078-026-127         704                  0   \n",
       "bass_synthetic_106-061-127         833                  0   \n",
       "\n",
       "                           instrument_family_str  instrument_source  \\\n",
       "bass_synthetic_078-026-127                  bass                  2   \n",
       "bass_synthetic_106-061-127                  bass                  2   \n",
       "\n",
       "                           instrument_source_str      instrument_str    note  \\\n",
       "bass_synthetic_078-026-127             synthetic  bass_synthetic_078  225351   \n",
       "bass_synthetic_106-061-127             synthetic  bass_synthetic_106  264743   \n",
       "\n",
       "                                              note_str  pitch  \\\n",
       "bass_synthetic_078-026-127  bass_synthetic_078-026-127     26   \n",
       "bass_synthetic_106-061-127  bass_synthetic_106-061-127     61   \n",
       "\n",
       "                                                 qualities qualities_str  \\\n",
       "bass_synthetic_078-026-127  [0, 1, 0, 0, 0, 0, 0, 0, 0, 0]        [dark]   \n",
       "bass_synthetic_106-061-127  [0, 0, 1, 0, 0, 0, 0, 0, 0, 0]  [distortion]   \n",
       "\n",
       "                            sample_rate  velocity  \n",
       "bass_synthetic_078-026-127        16000       127  \n",
       "bass_synthetic_106-061-127        16000       127  "
      ]
     },
     "execution_count": 9,
     "metadata": {},
     "output_type": "execute_result"
    }
   ],
   "source": [
    "# Group the df_train by instrument family, and then sample 4500 from each\n",
    "samples_per_instrument = 4500\n",
    "df_train_reduced = df_train.groupby('instrument_family', as_index=False, group_keys=False).apply(lambda df: df.sample(samples_per_instrument)) \n",
    "\n",
    "# Remove synth lead (instrument 9) as it is missing from test data\n",
    "df_train_reduced = df_train_reduced[df_train_reduced['instrument_family']!=9]\n",
    "df_train_reduced.head(2)"
   ]
  },
  {
   "cell_type": "code",
   "execution_count": 10,
   "metadata": {},
   "outputs": [
    {
     "data": {
      "text/plain": [
       "(45000, 13)"
      ]
     },
     "execution_count": 10,
     "metadata": {},
     "output_type": "execute_result"
    }
   ],
   "source": [
    "# Confirm that training data has been reduced to reasonable size\n",
    "df_train_reduced.shape"
   ]
  },
  {
   "cell_type": "code",
   "execution_count": 11,
   "metadata": {},
   "outputs": [
    {
     "data": {
      "text/plain": [
       "10    4500\n",
       "8     4500\n",
       "7     4500\n",
       "6     4500\n",
       "5     4500\n",
       "4     4500\n",
       "3     4500\n",
       "2     4500\n",
       "1     4500\n",
       "0     4500\n",
       "Name: instrument_family, dtype: int64"
      ]
     },
     "execution_count": 11,
     "metadata": {},
     "output_type": "execute_result"
    }
   ],
   "source": [
    "# Confirming that we have 4500 training examples from each instrument class (except instrument 9)\n",
    "df_train_reduced['instrument_family'].value_counts()"
   ]
  },
  {
   "cell_type": "markdown",
   "metadata": {},
   "source": [
    "### Extracting features"
   ]
  },
  {
   "cell_type": "code",
   "execution_count": 12,
   "metadata": {},
   "outputs": [],
   "source": [
    "# This function takes a file and returns features in an array\n",
    "def extract_audio_features(file):\n",
    "   \n",
    "    # Load the wav file\n",
    "    y, sr = librosa.load(file)\n",
    "        \n",
    "    # Determine if sound is harmonic or percussive\n",
    "    y_harmonic, y_percussive = librosa.effects.hpss(y)\n",
    "    if np.mean(y_harmonic)>np.mean(y_percussive):\n",
    "        harmonic = 1\n",
    "    else:\n",
    "        harmonic = 0\n",
    "        \n",
    "    # Mel-frequency cepstral coefficients\n",
    "    mfcc = librosa.feature.mfcc(y=y, sr=sr, n_mfcc=13)\n",
    "    # Temporal averaging\n",
    "    mfcc = np.mean(mfcc,axis=1)\n",
    "    \n",
    "    # Mel-scaled spectrogram\n",
    "    mel_spectrogram = librosa.feature.melspectrogram(y=y, sr=sr, n_mels=128,fmax=8000)  \n",
    "    # Temporal averaging\n",
    "    mel_spectrogram = np.mean(mel_spectrogram, axis = 1)\n",
    "    \n",
    "    # Determine chroma energy\n",
    "    chroma = librosa.feature.chroma_cens(y=y, sr=sr)\n",
    "    # Temporal averaging\n",
    "    chroma = np.mean(chroma, axis = 1)\n",
    "    \n",
    "    # Determine spectral contrast\n",
    "    spectral_contrast = librosa.feature.spectral_contrast(y=y, sr=sr)\n",
    "    # Temporal averaging\n",
    "    spectral_contrast = np.mean(spectral_contrast, axis= 1)\n",
    "    \n",
    "    # Return audio features as array\n",
    "    audio_features = [harmonic, mfcc, mel_spectrogram, chroma, spectral_contrast]\n",
    "    return audio_features"
   ]
  },
  {
   "cell_type": "code",
   "execution_count": 13,
   "metadata": {},
   "outputs": [],
   "source": [
    "instrument_types = ['bass', 'brass', 'flute', 'guitar', 'keyboard', 'mallet', 'organ', 'reed', 'string', 'synth_lead', 'vocal']\n",
    "\n",
    "# Function to extract instrument from filename\n",
    "def instrument_code(filename):   \n",
    "    for instrument in instrument_types:\n",
    "        if instrument in filename:\n",
    "            instrument_index = instrument_types.index(instrument)\n",
    "            return instrument_index\n",
    "    else: # Should never get this far\n",
    "        return None"
   ]
  },
  {
   "cell_type": "markdown",
   "metadata": {},
   "source": [
    "#### Feature extraction from test audio data"
   ]
  },
  {
   "cell_type": "code",
   "execution_count": 14,
   "metadata": {},
   "outputs": [
    {
     "name": "stderr",
     "output_type": "stream",
     "text": [
      "/home/nick/Documents/instrument_classify/env/local/lib/python2.7/site-packages/librosa/core/pitch.py:145: UserWarning: Trying to estimate tuning from empty frequency set.\n",
      "  warnings.warn('Trying to estimate tuning from empty frequency set.')\n"
     ]
    }
   ],
   "source": [
    "# WARNING: Executing this cell will take several hours!\n",
    "\n",
    "# Create dictionary to store all test features\n",
    "# This will be converted to dataframe after\n",
    "test_features_dict = {}\n",
    "filenames_test = df_test.index.tolist()\n",
    "\n",
    "#loop over every audio file in test set\n",
    "for file in filenames_test:\n",
    "    \n",
    "    # feature extraction; function returns array\n",
    "    file_path = 'data/nsynth-test/audio/'+ file + '.wav'\n",
    "    audio_features = extract_audio_features(file_path) \n",
    "    \n",
    "    # store features in dictionary for each file\n",
    "    test_features_dict[file] = audio_features"
   ]
  },
  {
   "cell_type": "code",
   "execution_count": 15,
   "metadata": {},
   "outputs": [
    {
     "data": {
      "text/html": [
       "<div>\n",
       "<style scoped>\n",
       "    .dataframe tbody tr th:only-of-type {\n",
       "        vertical-align: middle;\n",
       "    }\n",
       "\n",
       "    .dataframe tbody tr th {\n",
       "        vertical-align: top;\n",
       "    }\n",
       "\n",
       "    .dataframe thead th {\n",
       "        text-align: right;\n",
       "    }\n",
       "</style>\n",
       "<table border=\"1\" class=\"dataframe\">\n",
       "  <thead>\n",
       "    <tr style=\"text-align: right;\">\n",
       "      <th></th>\n",
       "      <th>harmonic</th>\n",
       "      <th>mfcc</th>\n",
       "      <th>spectro</th>\n",
       "      <th>chroma</th>\n",
       "      <th>contrast</th>\n",
       "    </tr>\n",
       "  </thead>\n",
       "  <tbody>\n",
       "    <tr>\n",
       "      <th>vocal_synthetic_003-092-050</th>\n",
       "      <td>1</td>\n",
       "      <td>[-373.57192233234747, -33.36105661703314, -27....</td>\n",
       "      <td>[729.4009942434144, 0.0027017951858890115, 0.0...</td>\n",
       "      <td>[0.0015458412067324828, 0.0015458412067324828,...</td>\n",
       "      <td>[51.46653956248316, 14.840266535438966, 25.813...</td>\n",
       "    </tr>\n",
       "    <tr>\n",
       "      <th>bass_synthetic_135-060-127</th>\n",
       "      <td>0</td>\n",
       "      <td>[-457.00787873883735, 28.898613116509534, 18.3...</td>\n",
       "      <td>[0.3436867655622912, 0.35550269999881584, 0.38...</td>\n",
       "      <td>[0.6756612403346377, 0.5141054400032908, 0.011...</td>\n",
       "      <td>[15.326957907261994, 35.63678924329, 26.317790...</td>\n",
       "    </tr>\n",
       "    <tr>\n",
       "      <th>string_acoustic_056-067-025</th>\n",
       "      <td>0</td>\n",
       "      <td>[-465.73313659822185, 17.321712690553028, 7.17...</td>\n",
       "      <td>[0.0008105553402491008, 0.00024985939913425024...</td>\n",
       "      <td>[0.18972148689028717, 0.15967222704598705, 0.0...</td>\n",
       "      <td>[18.788956368002847, 31.210328814912906, 34.67...</td>\n",
       "    </tr>\n",
       "    <tr>\n",
       "      <th>organ_electronic_007-019-050</th>\n",
       "      <td>1</td>\n",
       "      <td>[-358.67841386126287, 184.25233465145075, 100....</td>\n",
       "      <td>[426.2791337777077, 351.4662981416424, 167.739...</td>\n",
       "      <td>[0.001789669933149414, 0.2420925108506149, 0.4...</td>\n",
       "      <td>[13.312955962033707, 16.38899225439365, 16.225...</td>\n",
       "    </tr>\n",
       "    <tr>\n",
       "      <th>organ_electronic_057-056-025</th>\n",
       "      <td>1</td>\n",
       "      <td>[-406.32360278343657, 96.17874454016462, 36.05...</td>\n",
       "      <td>[0.003399323228392822, 0.027184807515206286, 0...</td>\n",
       "      <td>[0.05217717952335415, 0.077518447971031, 0.027...</td>\n",
       "      <td>[25.755901046219236, 29.918044307829252, 34.57...</td>\n",
       "    </tr>\n",
       "  </tbody>\n",
       "</table>\n",
       "</div>"
      ],
      "text/plain": [
       "                              harmonic  \\\n",
       "vocal_synthetic_003-092-050          1   \n",
       "bass_synthetic_135-060-127           0   \n",
       "string_acoustic_056-067-025          0   \n",
       "organ_electronic_007-019-050         1   \n",
       "organ_electronic_057-056-025         1   \n",
       "\n",
       "                                                                           mfcc  \\\n",
       "vocal_synthetic_003-092-050   [-373.57192233234747, -33.36105661703314, -27....   \n",
       "bass_synthetic_135-060-127    [-457.00787873883735, 28.898613116509534, 18.3...   \n",
       "string_acoustic_056-067-025   [-465.73313659822185, 17.321712690553028, 7.17...   \n",
       "organ_electronic_007-019-050  [-358.67841386126287, 184.25233465145075, 100....   \n",
       "organ_electronic_057-056-025  [-406.32360278343657, 96.17874454016462, 36.05...   \n",
       "\n",
       "                                                                        spectro  \\\n",
       "vocal_synthetic_003-092-050   [729.4009942434144, 0.0027017951858890115, 0.0...   \n",
       "bass_synthetic_135-060-127    [0.3436867655622912, 0.35550269999881584, 0.38...   \n",
       "string_acoustic_056-067-025   [0.0008105553402491008, 0.00024985939913425024...   \n",
       "organ_electronic_007-019-050  [426.2791337777077, 351.4662981416424, 167.739...   \n",
       "organ_electronic_057-056-025  [0.003399323228392822, 0.027184807515206286, 0...   \n",
       "\n",
       "                                                                         chroma  \\\n",
       "vocal_synthetic_003-092-050   [0.0015458412067324828, 0.0015458412067324828,...   \n",
       "bass_synthetic_135-060-127    [0.6756612403346377, 0.5141054400032908, 0.011...   \n",
       "string_acoustic_056-067-025   [0.18972148689028717, 0.15967222704598705, 0.0...   \n",
       "organ_electronic_007-019-050  [0.001789669933149414, 0.2420925108506149, 0.4...   \n",
       "organ_electronic_057-056-025  [0.05217717952335415, 0.077518447971031, 0.027...   \n",
       "\n",
       "                                                                       contrast  \n",
       "vocal_synthetic_003-092-050   [51.46653956248316, 14.840266535438966, 25.813...  \n",
       "bass_synthetic_135-060-127    [15.326957907261994, 35.63678924329, 26.317790...  \n",
       "string_acoustic_056-067-025   [18.788956368002847, 31.210328814912906, 34.67...  \n",
       "organ_electronic_007-019-050  [13.312955962033707, 16.38899225439365, 16.225...  \n",
       "organ_electronic_057-056-025  [25.755901046219236, 29.918044307829252, 34.57...  "
      ]
     },
     "execution_count": 15,
     "metadata": {},
     "output_type": "execute_result"
    }
   ],
   "source": [
    "# Convert dict to dataframe\n",
    "features_test = pd.DataFrame.from_dict(test_features_dict, orient='index',\n",
    "                                       columns=['harmonic', 'mfcc', 'spectro', 'chroma', 'contrast'])\n",
    "\n",
    "features_test.head()"
   ]
  },
  {
   "cell_type": "code",
   "execution_count": 16,
   "metadata": {},
   "outputs": [
    {
     "data": {
      "text/html": [
       "<div>\n",
       "<style scoped>\n",
       "    .dataframe tbody tr th:only-of-type {\n",
       "        vertical-align: middle;\n",
       "    }\n",
       "\n",
       "    .dataframe tbody tr th {\n",
       "        vertical-align: top;\n",
       "    }\n",
       "\n",
       "    .dataframe thead th {\n",
       "        text-align: right;\n",
       "    }\n",
       "</style>\n",
       "<table border=\"1\" class=\"dataframe\">\n",
       "  <thead>\n",
       "    <tr style=\"text-align: right;\">\n",
       "      <th></th>\n",
       "      <th>harmonic</th>\n",
       "      <th>mfcc_0</th>\n",
       "      <th>mfcc_1</th>\n",
       "      <th>mfcc_2</th>\n",
       "      <th>mfcc_3</th>\n",
       "      <th>mfcc_4</th>\n",
       "      <th>mfcc_5</th>\n",
       "      <th>mfcc_6</th>\n",
       "      <th>mfcc_7</th>\n",
       "      <th>mfcc_8</th>\n",
       "      <th>...</th>\n",
       "      <th>contrast_chroma_2</th>\n",
       "      <th>contrast_chroma_3</th>\n",
       "      <th>contrast_chroma_4</th>\n",
       "      <th>contrast_chroma_5</th>\n",
       "      <th>contrast_chroma_6</th>\n",
       "      <th>contrast_chroma_7</th>\n",
       "      <th>contrast_chroma_8</th>\n",
       "      <th>contrast_chroma_9</th>\n",
       "      <th>contrast_chroma_10</th>\n",
       "      <th>contrast_chroma_11</th>\n",
       "    </tr>\n",
       "  </thead>\n",
       "  <tbody>\n",
       "    <tr>\n",
       "      <th>vocal_synthetic_003-092-050</th>\n",
       "      <td>1</td>\n",
       "      <td>-373.571922</td>\n",
       "      <td>-33.361057</td>\n",
       "      <td>-27.369076</td>\n",
       "      <td>34.193883</td>\n",
       "      <td>-18.958225</td>\n",
       "      <td>44.740011</td>\n",
       "      <td>-15.474436</td>\n",
       "      <td>4.263017</td>\n",
       "      <td>-0.601554</td>\n",
       "      <td>...</td>\n",
       "      <td>0.001546</td>\n",
       "      <td>0.001546</td>\n",
       "      <td>0.001546</td>\n",
       "      <td>0.001546</td>\n",
       "      <td>0.001546</td>\n",
       "      <td>0.436386</td>\n",
       "      <td>0.718565</td>\n",
       "      <td>0.541034</td>\n",
       "      <td>0.01405</td>\n",
       "      <td>0.000781</td>\n",
       "    </tr>\n",
       "    <tr>\n",
       "      <th>bass_synthetic_135-060-127</th>\n",
       "      <td>0</td>\n",
       "      <td>-457.007879</td>\n",
       "      <td>28.898613</td>\n",
       "      <td>18.354827</td>\n",
       "      <td>15.474206</td>\n",
       "      <td>9.697761</td>\n",
       "      <td>7.271243</td>\n",
       "      <td>1.082034</td>\n",
       "      <td>-3.534700</td>\n",
       "      <td>-7.939138</td>\n",
       "      <td>...</td>\n",
       "      <td>0.011721</td>\n",
       "      <td>0.017333</td>\n",
       "      <td>0.023920</td>\n",
       "      <td>0.015035</td>\n",
       "      <td>0.022643</td>\n",
       "      <td>0.032344</td>\n",
       "      <td>0.018143</td>\n",
       "      <td>0.003452</td>\n",
       "      <td>0.00795</td>\n",
       "      <td>0.500950</td>\n",
       "    </tr>\n",
       "  </tbody>\n",
       "</table>\n",
       "<p>2 rows × 166 columns</p>\n",
       "</div>"
      ],
      "text/plain": [
       "                             harmonic      mfcc_0     mfcc_1     mfcc_2  \\\n",
       "vocal_synthetic_003-092-050         1 -373.571922 -33.361057 -27.369076   \n",
       "bass_synthetic_135-060-127          0 -457.007879  28.898613  18.354827   \n",
       "\n",
       "                                mfcc_3     mfcc_4     mfcc_5     mfcc_6  \\\n",
       "vocal_synthetic_003-092-050  34.193883 -18.958225  44.740011 -15.474436   \n",
       "bass_synthetic_135-060-127   15.474206   9.697761   7.271243   1.082034   \n",
       "\n",
       "                               mfcc_7    mfcc_8  ...  contrast_chroma_2  \\\n",
       "vocal_synthetic_003-092-050  4.263017 -0.601554  ...           0.001546   \n",
       "bass_synthetic_135-060-127  -3.534700 -7.939138  ...           0.011721   \n",
       "\n",
       "                             contrast_chroma_3  contrast_chroma_4  \\\n",
       "vocal_synthetic_003-092-050           0.001546           0.001546   \n",
       "bass_synthetic_135-060-127            0.017333           0.023920   \n",
       "\n",
       "                             contrast_chroma_5  contrast_chroma_6  \\\n",
       "vocal_synthetic_003-092-050           0.001546           0.001546   \n",
       "bass_synthetic_135-060-127            0.015035           0.022643   \n",
       "\n",
       "                             contrast_chroma_7  contrast_chroma_8  \\\n",
       "vocal_synthetic_003-092-050           0.436386           0.718565   \n",
       "bass_synthetic_135-060-127            0.032344           0.018143   \n",
       "\n",
       "                             contrast_chroma_9  contrast_chroma_10  \\\n",
       "vocal_synthetic_003-092-050           0.541034             0.01405   \n",
       "bass_synthetic_135-060-127            0.003452             0.00795   \n",
       "\n",
       "                             contrast_chroma_11  \n",
       "vocal_synthetic_003-092-050            0.000781  \n",
       "bass_synthetic_135-060-127             0.500950  \n",
       "\n",
       "[2 rows x 166 columns]"
      ]
     },
     "execution_count": 16,
     "metadata": {},
     "output_type": "execute_result"
    }
   ],
   "source": [
    "# Extract mfccs\n",
    "mfcc_test = pd.DataFrame(features_test.mfcc.values.tolist(),index=features_test.index)\n",
    "mfcc_test = mfcc_test.add_prefix('mfcc_')\n",
    "\n",
    "# Extract spectro\n",
    "spectro_test = pd.DataFrame(features_test.spectro.values.tolist(),index=features_test.index)\n",
    "spectro_test = spectro_test.add_prefix('spectro_')\n",
    "\n",
    "# Extract chroma\n",
    "chroma_test = pd.DataFrame(features_test.chroma.values.tolist(),index=features_test.index)\n",
    "chroma_test = chroma_test.add_prefix('chroma_')\n",
    "\n",
    "# Extract contrast\n",
    "contrast_test = pd.DataFrame(features_test.contrast.values.tolist(),index=features_test.index)\n",
    "contrast_test = chroma_test.add_prefix('contrast_')\n",
    "\n",
    "# Drop the old columns\n",
    "features_test = features_test.drop(labels=['mfcc', 'spectro', 'chroma', 'contrast'], axis=1)\n",
    "\n",
    "#concatenate\n",
    "df_features_test = pd.concat([features_test, mfcc_test, spectro_test, chroma_test, contrast_test],\n",
    "                           axis=1, join='inner')\n",
    "df_features_test.head(2)"
   ]
  },
  {
   "cell_type": "code",
   "execution_count": 17,
   "metadata": {},
   "outputs": [],
   "source": [
    "# df_features_test doesn't have the target labels... add it now\n",
    "# Extract the instrument from the file name\n",
    "targets_test = []\n",
    "for name in df_features_test.index.tolist():\n",
    "    targets_test.append(instrument_code(name))\n",
    "# Add new column to dataframe -- the instrument name\n",
    "df_features_test['targets'] = targets_test"
   ]
  },
  {
   "cell_type": "code",
   "execution_count": 18,
   "metadata": {},
   "outputs": [
    {
     "data": {
      "text/plain": [
       "(4096, 167)"
      ]
     },
     "execution_count": 18,
     "metadata": {},
     "output_type": "execute_result"
    }
   ],
   "source": [
    "df_features_test.shape"
   ]
  },
  {
   "cell_type": "markdown",
   "metadata": {},
   "source": [
    "#### Feature extraction from training audio data"
   ]
  },
  {
   "cell_type": "code",
   "execution_count": 19,
   "metadata": {},
   "outputs": [],
   "source": [
    "# Now we do it all again, this time with the training data\n",
    "\n",
    "# WARNING: Executing this cell will take several hours!\n",
    "\n",
    "# Dictionary to store all training features\n",
    "# This will be converted to dataframe after\n",
    "training_features_dict = {}\n",
    "\n",
    "filenames_train = df_train_reduced.index.tolist()\n",
    "\n",
    "#loop over every audio file in training set\n",
    "for file in filenames_train:\n",
    "    \n",
    "    # feature extraction; function returns array\n",
    "    file_path = 'data/nsynth-train/audio/'+ file + '.wav'\n",
    "    features = extract_audio_features(file_path) \n",
    "    \n",
    "    # store features in dictionary for each file\n",
    "    training_features_dict[file] = features"
   ]
  },
  {
   "cell_type": "code",
   "execution_count": 20,
   "metadata": {},
   "outputs": [
    {
     "data": {
      "text/html": [
       "<div>\n",
       "<style scoped>\n",
       "    .dataframe tbody tr th:only-of-type {\n",
       "        vertical-align: middle;\n",
       "    }\n",
       "\n",
       "    .dataframe tbody tr th {\n",
       "        vertical-align: top;\n",
       "    }\n",
       "\n",
       "    .dataframe thead th {\n",
       "        text-align: right;\n",
       "    }\n",
       "</style>\n",
       "<table border=\"1\" class=\"dataframe\">\n",
       "  <thead>\n",
       "    <tr style=\"text-align: right;\">\n",
       "      <th></th>\n",
       "      <th>harmonic</th>\n",
       "      <th>mfcc</th>\n",
       "      <th>spectro</th>\n",
       "      <th>chroma</th>\n",
       "      <th>contrast</th>\n",
       "    </tr>\n",
       "  </thead>\n",
       "  <tbody>\n",
       "    <tr>\n",
       "      <th>string_acoustic_019-053-050</th>\n",
       "      <td>0</td>\n",
       "      <td>[-435.11749120248277, 57.522890486385286, 45.5...</td>\n",
       "      <td>[0.005743224907793942, 0.0008756911777530139, ...</td>\n",
       "      <td>[0.0, 0.0, 0.0007373366518613547, 0.0022483638...</td>\n",
       "      <td>[39.8663779193007, 26.978123499677192, 25.6377...</td>\n",
       "    </tr>\n",
       "    <tr>\n",
       "      <th>organ_electronic_002-025-025</th>\n",
       "      <td>1</td>\n",
       "      <td>[-410.6611963186803, 101.48094777084113, 33.50...</td>\n",
       "      <td>[0.2284447254434572, 29.304125976725576, 150.8...</td>\n",
       "      <td>[0.4292591243437037, 0.5678657757812192, 0.429...</td>\n",
       "      <td>[31.465076018721827, 21.043539543764012, 22.50...</td>\n",
       "    </tr>\n",
       "  </tbody>\n",
       "</table>\n",
       "</div>"
      ],
      "text/plain": [
       "                              harmonic  \\\n",
       "string_acoustic_019-053-050          0   \n",
       "organ_electronic_002-025-025         1   \n",
       "\n",
       "                                                                           mfcc  \\\n",
       "string_acoustic_019-053-050   [-435.11749120248277, 57.522890486385286, 45.5...   \n",
       "organ_electronic_002-025-025  [-410.6611963186803, 101.48094777084113, 33.50...   \n",
       "\n",
       "                                                                        spectro  \\\n",
       "string_acoustic_019-053-050   [0.005743224907793942, 0.0008756911777530139, ...   \n",
       "organ_electronic_002-025-025  [0.2284447254434572, 29.304125976725576, 150.8...   \n",
       "\n",
       "                                                                         chroma  \\\n",
       "string_acoustic_019-053-050   [0.0, 0.0, 0.0007373366518613547, 0.0022483638...   \n",
       "organ_electronic_002-025-025  [0.4292591243437037, 0.5678657757812192, 0.429...   \n",
       "\n",
       "                                                                       contrast  \n",
       "string_acoustic_019-053-050   [39.8663779193007, 26.978123499677192, 25.6377...  \n",
       "organ_electronic_002-025-025  [31.465076018721827, 21.043539543764012, 22.50...  "
      ]
     },
     "execution_count": 20,
     "metadata": {},
     "output_type": "execute_result"
    }
   ],
   "source": [
    "# Convert dict to dataframe\n",
    "features_train = pd.DataFrame.from_dict(training_features_dict, orient='index',\n",
    "                                       columns=['harmonic', 'mfcc', 'spectro', 'chroma', 'contrast'])\n",
    "\n",
    "features_train.head(2)"
   ]
  },
  {
   "cell_type": "code",
   "execution_count": 21,
   "metadata": {},
   "outputs": [
    {
     "data": {
      "text/html": [
       "<div>\n",
       "<style scoped>\n",
       "    .dataframe tbody tr th:only-of-type {\n",
       "        vertical-align: middle;\n",
       "    }\n",
       "\n",
       "    .dataframe tbody tr th {\n",
       "        vertical-align: top;\n",
       "    }\n",
       "\n",
       "    .dataframe thead th {\n",
       "        text-align: right;\n",
       "    }\n",
       "</style>\n",
       "<table border=\"1\" class=\"dataframe\">\n",
       "  <thead>\n",
       "    <tr style=\"text-align: right;\">\n",
       "      <th></th>\n",
       "      <th>harmonic</th>\n",
       "      <th>mfcc_0</th>\n",
       "      <th>mfcc_1</th>\n",
       "      <th>mfcc_2</th>\n",
       "      <th>mfcc_3</th>\n",
       "      <th>mfcc_4</th>\n",
       "      <th>mfcc_5</th>\n",
       "      <th>mfcc_6</th>\n",
       "      <th>mfcc_7</th>\n",
       "      <th>mfcc_8</th>\n",
       "      <th>...</th>\n",
       "      <th>contrast_chroma_2</th>\n",
       "      <th>contrast_chroma_3</th>\n",
       "      <th>contrast_chroma_4</th>\n",
       "      <th>contrast_chroma_5</th>\n",
       "      <th>contrast_chroma_6</th>\n",
       "      <th>contrast_chroma_7</th>\n",
       "      <th>contrast_chroma_8</th>\n",
       "      <th>contrast_chroma_9</th>\n",
       "      <th>contrast_chroma_10</th>\n",
       "      <th>contrast_chroma_11</th>\n",
       "    </tr>\n",
       "  </thead>\n",
       "  <tbody>\n",
       "    <tr>\n",
       "      <th>string_acoustic_019-053-050</th>\n",
       "      <td>0</td>\n",
       "      <td>-435.117491</td>\n",
       "      <td>57.522890</td>\n",
       "      <td>45.558780</td>\n",
       "      <td>34.311198</td>\n",
       "      <td>25.078864</td>\n",
       "      <td>18.165530</td>\n",
       "      <td>13.746520</td>\n",
       "      <td>10.890065</td>\n",
       "      <td>8.637233</td>\n",
       "      <td>...</td>\n",
       "      <td>0.000737</td>\n",
       "      <td>0.002248</td>\n",
       "      <td>0.515533</td>\n",
       "      <td>0.683511</td>\n",
       "      <td>0.516565</td>\n",
       "      <td>0.003048</td>\n",
       "      <td>0.000000</td>\n",
       "      <td>0.000000</td>\n",
       "      <td>0.000000</td>\n",
       "      <td>0.000000</td>\n",
       "    </tr>\n",
       "    <tr>\n",
       "      <th>organ_electronic_002-025-025</th>\n",
       "      <td>1</td>\n",
       "      <td>-410.661196</td>\n",
       "      <td>101.480948</td>\n",
       "      <td>33.507414</td>\n",
       "      <td>61.627004</td>\n",
       "      <td>60.105843</td>\n",
       "      <td>29.676009</td>\n",
       "      <td>22.198454</td>\n",
       "      <td>14.750659</td>\n",
       "      <td>6.995170</td>\n",
       "      <td>...</td>\n",
       "      <td>0.429180</td>\n",
       "      <td>0.069715</td>\n",
       "      <td>0.074528</td>\n",
       "      <td>0.032688</td>\n",
       "      <td>0.017369</td>\n",
       "      <td>0.104263</td>\n",
       "      <td>0.355976</td>\n",
       "      <td>0.191591</td>\n",
       "      <td>0.079765</td>\n",
       "      <td>0.082488</td>\n",
       "    </tr>\n",
       "  </tbody>\n",
       "</table>\n",
       "<p>2 rows × 166 columns</p>\n",
       "</div>"
      ],
      "text/plain": [
       "                              harmonic      mfcc_0      mfcc_1     mfcc_2  \\\n",
       "string_acoustic_019-053-050          0 -435.117491   57.522890  45.558780   \n",
       "organ_electronic_002-025-025         1 -410.661196  101.480948  33.507414   \n",
       "\n",
       "                                 mfcc_3     mfcc_4     mfcc_5     mfcc_6  \\\n",
       "string_acoustic_019-053-050   34.311198  25.078864  18.165530  13.746520   \n",
       "organ_electronic_002-025-025  61.627004  60.105843  29.676009  22.198454   \n",
       "\n",
       "                                 mfcc_7    mfcc_8  ...  contrast_chroma_2  \\\n",
       "string_acoustic_019-053-050   10.890065  8.637233  ...           0.000737   \n",
       "organ_electronic_002-025-025  14.750659  6.995170  ...           0.429180   \n",
       "\n",
       "                              contrast_chroma_3  contrast_chroma_4  \\\n",
       "string_acoustic_019-053-050            0.002248           0.515533   \n",
       "organ_electronic_002-025-025           0.069715           0.074528   \n",
       "\n",
       "                              contrast_chroma_5  contrast_chroma_6  \\\n",
       "string_acoustic_019-053-050            0.683511           0.516565   \n",
       "organ_electronic_002-025-025           0.032688           0.017369   \n",
       "\n",
       "                              contrast_chroma_7  contrast_chroma_8  \\\n",
       "string_acoustic_019-053-050            0.003048           0.000000   \n",
       "organ_electronic_002-025-025           0.104263           0.355976   \n",
       "\n",
       "                              contrast_chroma_9  contrast_chroma_10  \\\n",
       "string_acoustic_019-053-050            0.000000            0.000000   \n",
       "organ_electronic_002-025-025           0.191591            0.079765   \n",
       "\n",
       "                              contrast_chroma_11  \n",
       "string_acoustic_019-053-050             0.000000  \n",
       "organ_electronic_002-025-025            0.082488  \n",
       "\n",
       "[2 rows x 166 columns]"
      ]
     },
     "execution_count": 21,
     "metadata": {},
     "output_type": "execute_result"
    }
   ],
   "source": [
    "#extract mfccs from array stored in one column to seperate columns\n",
    "mfcc_train = pd.DataFrame(features_train.mfcc.values.tolist(),\n",
    "                          index=features_train.index)\n",
    "# convenient column renaming function in pandas\n",
    "# generates mfcc_0, mfcc_1, ..\n",
    "mfcc_train = mfcc_train.add_prefix('mfcc_')\n",
    "\n",
    "# Extract spectro\n",
    "spectro_train = pd.DataFrame(features_train.spectro.values.tolist(),\n",
    "                             index=features_train.index)\n",
    "spectro_train = spectro_train.add_prefix('spectro_')\n",
    "\n",
    "\n",
    "# Extract chroma\n",
    "chroma_train = pd.DataFrame(features_train.chroma.values.tolist(),\n",
    "                            index=features_train.index)\n",
    "chroma_train = chroma_train.add_prefix('chroma_')\n",
    "\n",
    "\n",
    "# Extract contrast\n",
    "contrast_train = pd.DataFrame(features_train.contrast.values.tolist(),\n",
    "                              index=features_train.index)\n",
    "contrast_train = chroma_train.add_prefix('contrast_')\n",
    "\n",
    "# Drop the old columns\n",
    "features_train = features_train.drop(labels=['mfcc', 'spectro', 'chroma', 'contrast'], axis=1)\n",
    "\n",
    "# Concatenate all the columns \n",
    "df_features_train = pd.concat([features_train, mfcc_train, spectro_train, chroma_train, contrast_train],\n",
    "                           axis=1, join='inner')\n",
    "df_features_train.head(2)"
   ]
  },
  {
   "cell_type": "code",
   "execution_count": 22,
   "metadata": {},
   "outputs": [],
   "source": [
    "# df_features_train doesn't have the target labels... add it now\n",
    "# Extract the instrument from the file name\n",
    "targets_train = []\n",
    "for name in df_features_train.index.tolist():\n",
    "    targets_train.append(instrument_code(name))\n",
    "\n",
    "# Add new column to dataframe -- the instrument name\n",
    "df_features_train['targets'] = targets_train"
   ]
  },
  {
   "cell_type": "code",
   "execution_count": 23,
   "metadata": {},
   "outputs": [
    {
     "data": {
      "text/plain": [
       "(45000, 167)"
      ]
     },
     "execution_count": 23,
     "metadata": {},
     "output_type": "execute_result"
    }
   ],
   "source": [
    "df_features_train.shape"
   ]
  },
  {
   "cell_type": "markdown",
   "metadata": {},
   "source": [
    "### Random forest model "
   ]
  },
  {
   "cell_type": "code",
   "execution_count": 24,
   "metadata": {},
   "outputs": [],
   "source": [
    "#get training and testing data\n",
    "X_train = df_features_train.drop(labels=['targets'], axis=1)\n",
    "y_train = df_features_train['targets']\n",
    "\n",
    "X_test = df_features_test.drop(labels=['targets'], axis=1)\n",
    "y_test = df_features_test['targets']"
   ]
  },
  {
   "cell_type": "code",
   "execution_count": 25,
   "metadata": {},
   "outputs": [],
   "source": [
    "# Generate the random forest\n",
    "clf_Rf = RandomForestClassifier(n_estimators=20, max_depth=50, warm_start=True)"
   ]
  },
  {
   "cell_type": "code",
   "execution_count": 30,
   "metadata": {},
   "outputs": [
    {
     "name": "stderr",
     "output_type": "stream",
     "text": [
      "/home/nick/Documents/instrument_classify/env/local/lib/python2.7/site-packages/sklearn/ensemble/forest.py:308: UserWarning: Warm-start fitting without increasing n_estimators does not fit new trees.\n",
      "  warn(\"Warm-start fitting without increasing n_estimators does not \"\n"
     ]
    },
    {
     "data": {
      "text/plain": [
       "RandomForestClassifier(bootstrap=True, class_weight=None, criterion='gini',\n",
       "            max_depth=50, max_features='auto', max_leaf_nodes=None,\n",
       "            min_impurity_decrease=0.0, min_impurity_split=None,\n",
       "            min_samples_leaf=1, min_samples_split=2,\n",
       "            min_weight_fraction_leaf=0.0, n_estimators=20, n_jobs=None,\n",
       "            oob_score=False, random_state=None, verbose=0, warm_start=True)"
      ]
     },
     "execution_count": 30,
     "metadata": {},
     "output_type": "execute_result"
    }
   ],
   "source": [
    "# Fit the model\n",
    "clf_Rf.fit(X_train, y_train)"
   ]
  },
  {
   "cell_type": "code",
   "execution_count": 27,
   "metadata": {},
   "outputs": [],
   "source": [
    "# Predict the y values for the x_test values\n",
    "y_pred_RF = clf_Rf.predict(X_test)"
   ]
  },
  {
   "cell_type": "code",
   "execution_count": 28,
   "metadata": {},
   "outputs": [
    {
     "data": {
      "text/plain": [
       "True     2369\n",
       "False    1727\n",
       "Name: targets, dtype: int64"
      ]
     },
     "execution_count": 28,
     "metadata": {},
     "output_type": "execute_result"
    }
   ],
   "source": [
    "# The algorithm made 4096 predictions, of which 2325 were true, 1771 were false\n",
    "(y_pred_RF == y_test).value_counts()"
   ]
  },
  {
   "cell_type": "code",
   "execution_count": 29,
   "metadata": {},
   "outputs": [
    {
     "name": "stdout",
     "output_type": "stream",
     "text": [
      "Random forest algorithm accuracy: 57.8%\n"
     ]
    }
   ],
   "source": [
    "random_forest_accuracy = np.mean(y_pred_RF == y_test)\n",
    "print(\"Random forest algorithm accuracy: {0:.1%}\".format(random_forest_accuracy))"
   ]
  },
  {
   "cell_type": "markdown",
   "metadata": {},
   "source": [
    "### References"
   ]
  },
  {
   "cell_type": "markdown",
   "metadata": {},
   "source": [
    "Nadim Kawwa, *[Instrument classification on the NSynth dataset using supervised learning and CNNs](https://github.com/NadimKawwa/NSynth)*. 2019."
   ]
  }
 ],
 "metadata": {
  "kernelspec": {
   "display_name": "Python 3",
   "language": "python",
   "name": "python3"
  },
  "language_info": {
   "codemirror_mode": {
    "name": "ipython",
    "version": 2
   },
   "file_extension": ".py",
   "mimetype": "text/x-python",
   "name": "python",
   "nbconvert_exporter": "python",
   "pygments_lexer": "ipython2",
   "version": "2.7.15+"
  }
 },
 "nbformat": 4,
 "nbformat_minor": 2
}
